{
 "cells": [
  {
   "cell_type": "code",
   "execution_count": 1,
   "metadata": {},
   "outputs": [],
   "source": [
    "# Tratamiento de datos\n",
    "# -----------------------------------------------------------------------\n",
    "import numpy as np\n",
    "import pandas as pd\n",
    "# Gráficos\n",
    "# ------------------------------------------------------------------------------\n",
    "import matplotlib.pyplot as plt\n",
    "import seaborn as sns\n",
    "# Estandarización variables numéricas y Codificación variables categóricas\n",
    "# ------------------------------------------------------------------------------\n",
    "from sklearn.preprocessing import StandardScaler\n",
    "# Gestión datos desbalanceados\n",
    "# ------------------------------------------------------------------------------\n",
    "from imblearn.under_sampling import RandomUnderSampler\n",
    "from imblearn.over_sampling import RandomOverSampler\n",
    "from imblearn.combine import SMOTETomek\n",
    "# Para separar los datos en train y test\n",
    "# ------------------------------------------------------------------------------\n",
    "from sklearn.model_selection import train_test_split\n",
    "#  Gestión de warnings\n",
    "# ------------------------------------------------------------------------------\n",
    "import warnings\n",
    "warnings.filterwarnings(\"ignore\")"
   ]
  },
  {
   "attachments": {},
   "cell_type": "markdown",
   "metadata": {},
   "source": [
    "# Pair programming Preprocesado\n",
    "### Ana Gonzalez y Ana Campos"
   ]
  },
  {
   "attachments": {},
   "cell_type": "markdown",
   "metadata": {},
   "source": [
    "En esta lección realizaremos los cambios oportunos para poder ejecutar el modelo de regresión logística.\n",
    "Cuando nos enfrentamos a problemas de regresión lineal vimos que eran necesarios algunos cambios antes de poder ajustar los modelos.\n",
    "\n",
    "En el caso de la regresión logística lo tendremos que hacer.\n",
    "\n",
    "Estos cambios incluyen:\n",
    "\n",
    "- **Estandarización** de las variables predictoras numéricas\n",
    "- **Codificación** de las variables categóricas\n",
    "- **Balanceo** de la variable respuesta"
   ]
  },
  {
   "cell_type": "code",
   "execution_count": null,
   "metadata": {},
   "outputs": [],
   "source": [
    "# cargamos el conjunto de datos que guardamos en la lección anterior\n",
    "df_titanic = pd.read_csv(\"../data-log/.csv\", index_col=0).reset_index(drop = True)\n",
    "df_titanic.head()"
   ]
  },
  {
   "cell_type": "code",
   "execution_count": null,
   "metadata": {},
   "outputs": [],
   "source": [
    "# nos hacemos una copia del df que acabamos de cargar\n",
    "\n",
    "df = df_titanic.copy()"
   ]
  },
  {
   "attachments": {},
   "cell_type": "markdown",
   "metadata": {},
   "source": [
    "# Estandarización"
   ]
  },
  {
   "cell_type": "code",
   "execution_count": null,
   "metadata": {},
   "outputs": [],
   "source": [
    "# iniciamos el método para escalar\n",
    "\n",
    "scaler = StandardScaler()"
   ]
  },
  {
   "cell_type": "code",
   "execution_count": null,
   "metadata": {},
   "outputs": [],
   "source": [
    "# recordemos que la estandarización solo se hace para las variables predictoras numéricas\n",
    "\n",
    "numericas = df.select_dtypes(include = np.number)\n",
    "numericas.head()"
   ]
  },
  {
   "cell_type": "code",
   "execution_count": null,
   "metadata": {},
   "outputs": [],
   "source": [
    "# Si queremos eliminar alguna columna\n",
    "numericas.drop([\"survived\", \"pclass\"], axis = 1, inplace = True)"
   ]
  },
  {
   "cell_type": "code",
   "execution_count": null,
   "metadata": {},
   "outputs": [],
   "source": [
    "# ahora ya podemos ajustar nuestros datos.  \n",
    "\n",
    "scaler.fit(numericas)\n",
    "\n",
    "# transformamos los datos\n",
    "\n",
    "X_escaladas = scaler.transform(numericas)\n",
    "\n",
    "# por último convertiremos el array que nos devuelve en un dataframe. \n",
    "\n",
    "numericas_estandar = pd.DataFrame(X_escaladas, columns = numericas.columns)\n",
    "numericas_estandar.head(2)"
   ]
  },
  {
   "cell_type": "code",
   "execution_count": null,
   "metadata": {},
   "outputs": [],
   "source": [
    "# dropeamos las columnas sin estandarizar\n",
    "\n",
    "df.drop([\"age\", \"fare\", \"num_familiar\"], axis = 1, inplace=True)\n",
    "df.head()"
   ]
  },
  {
   "cell_type": "code",
   "execution_count": null,
   "metadata": {},
   "outputs": [],
   "source": [
    "# lo unomos al dataframe original \n",
    "\n",
    "df = pd.concat([df, numericas_estandar], axis = 1)\n",
    "# chequeamos que esta todo bien\n",
    "df.head()"
   ]
  },
  {
   "attachments": {},
   "cell_type": "markdown",
   "metadata": {},
   "source": [
    "# Codificacion con datos ESTANDARIZADOS"
   ]
  },
  {
   "cell_type": "code",
   "execution_count": null,
   "metadata": {},
   "outputs": [],
   "source": [
    "df.head(2)"
   ]
  },
  {
   "attachments": {},
   "cell_type": "markdown",
   "metadata": {},
   "source": [
    "¿ tienen orden nuestras variables? "
   ]
  },
  {
   "attachments": {},
   "cell_type": "markdown",
   "metadata": {},
   "source": [
    "# No tienen"
   ]
  },
  {
   "cell_type": "code",
   "execution_count": null,
   "metadata": {},
   "outputs": [],
   "source": [
    "lista_columnas = [\"embarked\", \"maturity\", \"adult_male\", \"alone\"]\n",
    "\n",
    "df_encoded = pd.DataFrame()\n",
    "\n",
    "\n",
    "for columna in lista_columnas:\n",
    "    df_dummies = pd.get_dummies(df[columna], prefix_sep = \"_\", prefix = columna, dtype = int)\n",
    "\n",
    "    df_encoded = pd.concat([df_encoded, df_dummies], axis = 1)\n",
    "\n"
   ]
  },
  {
   "cell_type": "code",
   "execution_count": null,
   "metadata": {},
   "outputs": [],
   "source": [
    "# ya tenemos nuestro dataframe con las variables codificadas,\n",
    "df_encoded.head()"
   ]
  },
  {
   "cell_type": "code",
   "execution_count": null,
   "metadata": {},
   "outputs": [],
   "source": [
    "# el siguiente paso sería unir este dataframe con nuestro dataframe original para tener todos los datos en un mismo df\n",
    "\n",
    "df_final = pd.concat([df, df_encoded], axis = 1)\n",
    "df_final.head()"
   ]
  },
  {
   "cell_type": "code",
   "execution_count": null,
   "metadata": {},
   "outputs": [],
   "source": [
    "# por último nos queda eliminar las columnas categóricas originales porque ya no nos hacen falta. \n",
    "\n",
    "df_final.drop(lista_columnas, axis = 1, inplace=True)\n",
    "df_final.head(2)"
   ]
  },
  {
   "attachments": {},
   "cell_type": "markdown",
   "metadata": {},
   "source": [
    "# Tienen"
   ]
  },
  {
   "cell_type": "code",
   "execution_count": null,
   "metadata": {},
   "outputs": [],
   "source": [
    "# definimos el diccionario\n",
    "\n",
    "map_sex = {\"male\": 0, \"female\": 1}"
   ]
  },
  {
   "cell_type": "code",
   "execution_count": null,
   "metadata": {},
   "outputs": [],
   "source": [
    "df_final[\"sex\"] = df_final[\"sex\"].map(map_sex)\n",
    "df_final.head(2)"
   ]
  },
  {
   "cell_type": "code",
   "execution_count": null,
   "metadata": {},
   "outputs": [],
   "source": [
    "# Dejo por si tenemos mas diccionariso que poner "
   ]
  },
  {
   "cell_type": "code",
   "execution_count": null,
   "metadata": {},
   "outputs": [],
   "source": []
  },
  {
   "attachments": {},
   "cell_type": "markdown",
   "metadata": {},
   "source": [
    "-------------------------------------------------------------\n",
    "\n",
    "Vamos a aplicar esta codificación al *dataframe* original, el objetivo, tener dos datasets: \n",
    "\n",
    "- Uno con las variables categóricas codificadas y las numéricas estandarizadas.\n",
    "\n",
    "- Unos con las variables categóricas codificadas y las numéricas sin estandarizar.  \n",
    "\n",
    "\n",
    "Con estos dos csv ajustaremos nuestro modelo de regresión logística para comparar que modelo es mejor y como pueden cambiar las métricas. "
   ]
  },
  {
   "attachments": {},
   "cell_type": "markdown",
   "metadata": {},
   "source": [
    "# Codificacion con datos SIN ESTANDARIZAR"
   ]
  },
  {
   "cell_type": "code",
   "execution_count": null,
   "metadata": {},
   "outputs": [],
   "source": [
    "df.head(2)"
   ]
  },
  {
   "attachments": {},
   "cell_type": "markdown",
   "metadata": {},
   "source": [
    "# sin orden"
   ]
  },
  {
   "cell_type": "code",
   "execution_count": null,
   "metadata": {},
   "outputs": [],
   "source": [
    "lista_columnas = [\"embarked\", \"maturity\", \"adult_male\", \"alone\"]\n",
    "\n",
    "df_encoded2 = pd.DataFrame()\n",
    "\n",
    "\n",
    "for columna in lista_columnas:\n",
    "    df_dummies2 = pd.get_dummies(df_titanic[columna], prefix_sep = \"_\", prefix = columna, dtype = int)\n",
    "\n",
    "    df_encoded2 = pd.concat([df_encoded2, df_dummies2], axis = 1)"
   ]
  },
  {
   "cell_type": "code",
   "execution_count": null,
   "metadata": {},
   "outputs": [],
   "source": [
    "# ya tenemos nuestro dataframe con las variables codificadas,\n",
    "df_encoded2.head()"
   ]
  },
  {
   "cell_type": "code",
   "execution_count": null,
   "metadata": {},
   "outputs": [],
   "source": [
    "# el siguiente paso sería unir este dataframe con nuestro dataframe original para tener todos los datos en un mismo df\n",
    "\n",
    "df_final2 = pd.concat([df_titanic, df_encoded2], axis = 1)\n",
    "df_final2.head()"
   ]
  },
  {
   "cell_type": "code",
   "execution_count": null,
   "metadata": {},
   "outputs": [],
   "source": [
    "# por último nos queda eliminar las columnas categóricas originales porque ya no nos hacen falta. \n",
    "\n",
    "df_final2.drop(lista_columnas, axis = 1, inplace=True)\n",
    "df_final2.head(2)"
   ]
  },
  {
   "attachments": {},
   "cell_type": "markdown",
   "metadata": {},
   "source": [
    "# con orden"
   ]
  },
  {
   "cell_type": "code",
   "execution_count": null,
   "metadata": {},
   "outputs": [],
   "source": [
    "# definimos el diccionario\n",
    "\n",
    "map_sex = {\"male\": 0, \"female\": 1}"
   ]
  },
  {
   "cell_type": "code",
   "execution_count": null,
   "metadata": {},
   "outputs": [],
   "source": [
    "df_final2[\"sex\"] = df_final2[\"sex\"].map(map_sex)\n",
    "df_final2.head(2)"
   ]
  },
  {
   "attachments": {},
   "cell_type": "markdown",
   "metadata": {},
   "source": [
    "# Balanceo de nuestra variable respuesta"
   ]
  },
  {
   "attachments": {},
   "cell_type": "markdown",
   "metadata": {},
   "source": [
    "# Pandas"
   ]
  },
  {
   "cell_type": "code",
   "execution_count": null,
   "metadata": {},
   "outputs": [],
   "source": [
    "# recordemos como estaban distribuidos nuestros datos\n",
    "\n",
    "plt.figure(figsize=(8,5)) # para cambiar el tamaño de la figura\n",
    "\n",
    "fig1 = sns.countplot(data = df_titanic, x = \"survived\",  color = \"mediumaquamarine\",  edgecolor='black')\n",
    "fig1.set(xticklabels=[\"No\", \"Yes\"]) \n",
    "plt.show("
   ]
  },
  {
   "attachments": {},
   "cell_type": "markdown",
   "metadata": {},
   "source": [
    "## Downsampling"
   ]
  },
  {
   "cell_type": "code",
   "execution_count": null,
   "metadata": {},
   "outputs": [],
   "source": [
    "# lo primero que hacemos es sacar el número de registros que tenemos para la clase minoritaria\n",
    "num_minoritarios = df_final[\"survived\"].value_counts()[1]\n",
    "num_minoritarios"
   ]
  },
  {
   "cell_type": "code",
   "execution_count": null,
   "metadata": {},
   "outputs": [],
   "source": [
    "# nos creamos un dataframe solo con las filas donde la variable respuesta sea Yes. \n",
    "minoritarios = df_final2[df_final[\"survived\"] == 1]\n",
    "minoritarios.head(2)"
   ]
  },
  {
   "cell_type": "code",
   "execution_count": null,
   "metadata": {},
   "outputs": [],
   "source": [
    "# extraemos una muestra de la categoría mayoritaria que sea del mismo tamaño que la clase minotaria\n",
    "\n",
    "mayoritarios = df_final[df_final[\"survived\"] == 0].sample(num_minoritarios, random_state = 42)\n",
    "mayoritarios.head(2)"
   ]
  },
  {
   "cell_type": "code",
   "execution_count": null,
   "metadata": {},
   "outputs": [],
   "source": [
    "# Ahora es el momento de unir los *dataframes*\n",
    "balanceado = pd.concat([minoritarios,mayoritarios],axis = 0)\n",
    "balanceado.head(2)"
   ]
  },
  {
   "cell_type": "code",
   "execution_count": null,
   "metadata": {},
   "outputs": [],
   "source": [
    "# chequeamos como es nuestro dataframe ahora\n",
    "balanceado[\"survived\"].value_counts()"
   ]
  },
  {
   "attachments": {},
   "cell_type": "markdown",
   "metadata": {},
   "source": [
    "---\n",
    "El resultado es : "
   ]
  },
  {
   "attachments": {},
   "cell_type": "markdown",
   "metadata": {},
   "source": [
    "### Upsampling"
   ]
  },
  {
   "cell_type": "code",
   "execution_count": null,
   "metadata": {},
   "outputs": [],
   "source": [
    "num_mayoritarios = df_final[\"survived\"].value_counts()[0]\n",
    "num_mayoritarios"
   ]
  },
  {
   "cell_type": "code",
   "execution_count": null,
   "metadata": {},
   "outputs": [],
   "source": [
    "# seleccionamos ls datos de la clase mayoritaria\n",
    "\n",
    "mayoritarios2 = df_final[df_final[\"survived\"]== 0]\n",
    "mayoritarios2.head(2)"
   ]
  },
  {
   "cell_type": "code",
   "execution_count": null,
   "metadata": {},
   "outputs": [],
   "source": [
    "# hacemos un selección aleatoria de datos de la clase minoritaria, para tener el mismo número que la clase mayoritaria\n",
    "\n",
    "minoritarios2 =df_final[df_final[\"survived\"]==1].sample(num_mayoritarios, replace=True)\n",
    "minoritarios2.head(2)"
   ]
  },
  {
   "cell_type": "code",
   "execution_count": null,
   "metadata": {},
   "outputs": [],
   "source": [
    "# unimos los dos dataframes\n",
    "\n",
    "balanceado2 = pd.concat([mayoritarios2,minoritarios2], axis = 0)\n",
    "balanceado2.head(2)"
   ]
  },
  {
   "cell_type": "code",
   "execution_count": null,
   "metadata": {},
   "outputs": [],
   "source": [
    "# chequeamos como quedaron cada una de nuestras categorías\n",
    "\n",
    "balanceado2[\"survived\"].value_counts()"
   ]
  },
  {
   "attachments": {},
   "cell_type": "markdown",
   "metadata": {},
   "source": [
    "---\n",
    "El resultado es : "
   ]
  }
 ],
 "metadata": {
  "kernelspec": {
   "display_name": "base",
   "language": "python",
   "name": "python3"
  },
  "language_info": {
   "codemirror_mode": {
    "name": "ipython",
    "version": 3
   },
   "file_extension": ".py",
   "mimetype": "text/x-python",
   "name": "python",
   "nbconvert_exporter": "python",
   "pygments_lexer": "ipython3",
   "version": "3.9.7"
  },
  "orig_nbformat": 4,
  "vscode": {
   "interpreter": {
    "hash": "f8e782a3a92a384869fb83a8974812ed4d4d199ed3e8c8704ecd8a7536d7fad4"
   }
  }
 },
 "nbformat": 4,
 "nbformat_minor": 2
}
