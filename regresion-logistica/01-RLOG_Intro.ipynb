{
 "cells": [
  {
   "cell_type": "code",
   "execution_count": 121,
   "metadata": {},
   "outputs": [],
   "source": [
    "# tratamiento de los datos\n",
    "# ============================================\n",
    "import pandas as pd\n",
    "import numpy as np\n",
    "\n",
    "# librerías para la visualización de los datos\n",
    "# ============================================\n",
    "import matplotlib.pyplot as plt\n",
    "import seaborn as sns\n",
    "\n",
    "# Establecer tamaño fijo de gráficas\n",
    "# ==================================\n",
    "plt.rcParams[\"figure.figsize\"] = (10,8)\n",
    "\n",
    "# Configuración warnings\n",
    "# ======================\n",
    "import warnings\n",
    "warnings.filterwarnings('ignore')"
   ]
  },
  {
   "attachments": {},
   "cell_type": "markdown",
   "metadata": {},
   "source": [
    "# Pair Programming EDA\n",
    "### Ana Gonzalez y Ana Campos\n",
    "\n",
    "Para los ejercicios de pair programming de Regresión logística temdremos que buscar un dataset (al igual que hicismos en regresión lineal) que usaremosmos a lo largo de los siguientes ejercicios.\n",
    "Se ruega a la hora de realizar la entrega que incluyais el conjunto de datos que hayais decidido emplear para estos ejercicios.\n",
    "## Objetivos\n",
    "Buscar un **conjunto** de datos a analizar\n",
    "Se recomienda que el conjunto de datos a analizar tenga variables **numéricas** y categóricas, primando que haya más de una variable de tipo numérico.\n",
    "- Explicar los **datos** y las **variables disponibles** en el conjunto de datos seleccionado\n",
    "- Realizar un **EDA** sencillo poniendo en práctica los conocimientos adquiridos hasta el momento.\n",
    "- Interpretación de los **resultados**."
   ]
  },
  {
   "cell_type": "code",
   "execution_count": null,
   "metadata": {},
   "outputs": [],
   "source": [
    "df = pd.read_csv(\"data-log/.csv\", index_col = 0).reset_index()\n",
    "df.head(2)"
   ]
  },
  {
   "attachments": {},
   "cell_type": "markdown",
   "metadata": {},
   "source": [
    "## Entender las variables que tenemos y como es nuetro dataframe. "
   ]
  },
  {
   "cell_type": "code",
   "execution_count": null,
   "metadata": {},
   "outputs": [],
   "source": [
    "# número de filas y columnas del dataframe\n",
    "df.shape"
   ]
  },
  {
   "cell_type": "code",
   "execution_count": null,
   "metadata": {},
   "outputs": [],
   "source": [
    "# información general del dataframe\n",
    "df.info()"
   ]
  },
  {
   "cell_type": "code",
   "execution_count": null,
   "metadata": {},
   "outputs": [],
   "source": [
    "# nombre de las columnas de nuestro dataframe\n",
    "df.columns"
   ]
  },
  {
   "cell_type": "code",
   "execution_count": null,
   "metadata": {},
   "outputs": [],
   "source": [
    "# principales estadísticos de las columnas numéricas. recordemos que por defecto el describe nos devuelve las numéricas\n",
    "df.describe().T"
   ]
  },
  {
   "cell_type": "code",
   "execution_count": null,
   "metadata": {},
   "outputs": [],
   "source": [
    "# principales estadisticos de las variables categóricas\n",
    "df.describe(include =\"object\").T"
   ]
  },
  {
   "attachments": {},
   "cell_type": "markdown",
   "metadata": {},
   "source": [
    "## Nulos"
   ]
  },
  {
   "cell_type": "code",
   "execution_count": null,
   "metadata": {},
   "outputs": [],
   "source": [
    "# valores nulos en el dataframe\n",
    "df.isnull().sum()"
   ]
  },
  {
   "attachments": {},
   "cell_type": "markdown",
   "metadata": {},
   "source": [
    "## Duplicados"
   ]
  },
  {
   "cell_type": "code",
   "execution_count": null,
   "metadata": {},
   "outputs": [],
   "source": [
    "# duplicados \n",
    "df.duplicated().sum()"
   ]
  },
  {
   "cell_type": "code",
   "execution_count": null,
   "metadata": {},
   "outputs": [],
   "source": [
    "df[df.duplicated()== True] # Para ver la fila duplicada"
   ]
  },
  {
   "cell_type": "code",
   "execution_count": 131,
   "metadata": {},
   "outputs": [],
   "source": [
    "df.drop_duplicates(inplace=True)"
   ]
  },
  {
   "cell_type": "code",
   "execution_count": null,
   "metadata": {},
   "outputs": [],
   "source": [
    "df.duplicated().sum()"
   ]
  },
  {
   "cell_type": "code",
   "execution_count": null,
   "metadata": {},
   "outputs": [],
   "source": [
    "# duplicados \n",
    "df.duplicated().sum()"
   ]
  },
  {
   "cell_type": "code",
   "execution_count": null,
   "metadata": {},
   "outputs": [],
   "source": [
    "df.shape"
   ]
  },
  {
   "attachments": {},
   "cell_type": "markdown",
   "metadata": {},
   "source": [
    "# Outliers"
   ]
  },
  {
   "cell_type": "code",
   "execution_count": null,
   "metadata": {},
   "outputs": [],
   "source": [
    "df.describe().T"
   ]
  },
  {
   "cell_type": "code",
   "execution_count": null,
   "metadata": {},
   "outputs": [],
   "source": [
    "numericas = df.select_dtypes(include=np.number)\n",
    "numericas.head(2)"
   ]
  },
  {
   "cell_type": "code",
   "execution_count": null,
   "metadata": {},
   "outputs": [],
   "source": [
    "fig, axes = plt.subplots(2,2, figsize=(20,10))\n",
    "axes = axes.flat\n",
    "for indice, columna in enumerate(numericas.columns):\n",
    "    sns.boxplot(x = numericas[columna], data = df, ax=axes[indice], color = \"turquoise\"); \n",
    "plt.tight_layout()\n",
    "plt.show();"
   ]
  },
  {
   "cell_type": "markdown",
   "metadata": {},
   "source": [
    "Detectar valores de los outliers"
   ]
  },
  {
   "cell_type": "code",
   "execution_count": 157,
   "metadata": {},
   "outputs": [],
   "source": [
    "def detectar_outliers(lista_columnas, dataframe): \n",
    "    dicc_indices = {} # creamos un diccionario donde almacenaremos índices de los outliers\n",
    "    # iteramos por la lista de las columnas numéricas de nuestro dataframe\n",
    "    for col in lista_columnas:\n",
    "        #calculamos los cuartiles Q1 y Q3\n",
    "        Q1 = np.nanpercentile(dataframe[col], 25)\n",
    "        Q3 = np.nanpercentile(dataframe[col], 75)\n",
    "        # calculamos el rango intercuartil\n",
    "        IQR = Q3 - Q1\n",
    "        # calculamos los límites\n",
    "        outlier_step = 1.5 * IQR\n",
    "        # filtramos nuestro dataframe para indentificar los outliers\n",
    "        outliers_data = dataframe[(dataframe[col] < Q1 - outlier_step) | (dataframe[col] > Q3 + outlier_step)]\n",
    "        if outliers_data.shape[0] > 0: # chequeamos si nuestro dataframe tiene alguna fila. \n",
    "            dicc_indices[col] = (list(outliers_data.index)) \n",
    "    return dicc_indices "
   ]
  },
  {
   "cell_type": "code",
   "execution_count": 158,
   "metadata": {},
   "outputs": [],
   "source": [
    "#lista_columnas = list(numericas.columns)\n",
    "#ind = detectar_outliers(lista_columnas, df)"
   ]
  },
  {
   "cell_type": "code",
   "execution_count": 159,
   "metadata": {},
   "outputs": [],
   "source": [
    "# en que columnas nos hemos encontrado con outliers? \n",
    "#ind.keys()"
   ]
  },
  {
   "cell_type": "code",
   "execution_count": 160,
   "metadata": {},
   "outputs": [],
   "source": [
    "# Iteramos por el diccionario que hemos creado con los índices de los outliers\n",
    "#for k, v in ind.items():\n",
    "    # Sacamos la mediana de cada columna numérica\n",
    "    #mediana = df[k].median()\n",
    "    # iteramos por cada fila de la columna en la que hay outliers y convertimos ese valor en la mediana\n",
    "    #for i in v:\n",
    "        #df.loc[i,k] = mediana\n",
    "\n"
   ]
  },
  {
   "cell_type": "code",
   "execution_count": null,
   "metadata": {},
   "outputs": [],
   "source": [
    "df.describe().T"
   ]
  },
  {
   "attachments": {},
   "cell_type": "markdown",
   "metadata": {},
   "source": [
    "## Analizar las relaciones entre las variables. "
   ]
  },
  {
   "cell_type": "markdown",
   "metadata": {},
   "source": [
    "### Variable respuesta"
   ]
  },
  {
   "cell_type": "code",
   "execution_count": null,
   "metadata": {},
   "outputs": [],
   "source": [
    "df.head(2)"
   ]
  },
  {
   "cell_type": "code",
   "execution_count": null,
   "metadata": {},
   "outputs": [],
   "source": [
    "# vamos a ver visualmente como está distribuida la variable respuesta\n",
    "sns.set(style=\"ticks\")\n",
    "sns.set_style(\"darkgrid\")\n",
    "sns.distplot(\n",
    "    df[\"charges\"], \n",
    "    #hist = False, \n",
    "    color = \"blue\", \n",
    "    kde_kws = {\"shade\": True, \"linewidth\": 1});"
   ]
  },
  {
   "cell_type": "code",
   "execution_count": null,
   "metadata": {},
   "outputs": [],
   "source": [
    "df.skew()"
   ]
  },
  {
   "cell_type": "markdown",
   "metadata": {},
   "source": [
    "#### Variables numéricas"
   ]
  },
  {
   "cell_type": "code",
   "execution_count": null,
   "metadata": {},
   "outputs": [],
   "source": [
    "# exploramos cuáles son los principales estadísticos de las variables numéricas\n",
    "\n",
    "df.select_dtypes(include = np.number).describe().T"
   ]
  },
  {
   "cell_type": "code",
   "execution_count": null,
   "metadata": {},
   "outputs": [],
   "source": [
    "# Gráfico de relación entre variables predictoras y la variable a predecir\n",
    "# ==============================================================================\n",
    "\n",
    "fig, axes = plt.subplots(nrows = 2, ncols = 3, figsize = (30, 10))\n",
    "axes = axes.flat\n",
    "\n",
    "columnas_numeric = df.select_dtypes(include = np.number).columns\n",
    "columnas_numeric = columnas_numeric.drop(\"charges\")\n",
    "\n",
    "for i, colum in enumerate(columnas_numeric):\n",
    "    sns.regplot(\n",
    "        x = df[colum], \n",
    "        y = df[\"charges\"], \n",
    "        color = \"blue\", \n",
    "        marker = \".\", \n",
    "        scatter_kws = {\"alpha\": 0.4}, \n",
    "        line_kws = {\"color\": \"red\", \"alpha\": 0.7 }, \n",
    "        ax = axes[i])\n",
    "    \n",
    "    axes[i].set_title(f\"Prima del seguro vs {colum}\", fontsize = 10, fontweight = \"bold\")\n",
    "    axes[i].tick_params(labelsize = 20)\n",
    "    axes[i].set_xlabel(\"\")\n",
    "    axes[i].set_ylabel(\"\")\n",
    "    \n",
    "fig.tight_layout()\n",
    "fig.delaxes(axes[-1])\n",
    "fig.delaxes(axes[-2])\n",
    "fig.delaxes(axes[-3]);"
   ]
  },
  {
   "cell_type": "code",
   "execution_count": null,
   "metadata": {},
   "outputs": [],
   "source": [
    "plt.figure(figsize = (10,5))  # establecemos el tamaño de la gráfica\n",
    "sns.histplot(data =df3, x = \"charges\", hue = \"smoker\") \n",
    "plt.xticks(rotation = 45) # rotamos las etiquetas del eje x para que estén a 45 grados"
   ]
  },
  {
   "attachments": {},
   "cell_type": "markdown",
   "metadata": {},
   "source": [
    "#### Correlación entre variables numéricas"
   ]
  },
  {
   "cell_type": "code",
   "execution_count": null,
   "metadata": {},
   "outputs": [],
   "source": [
    "sns.heatmap(df.corr(), \n",
    "           cmap = \"YlGnBu\", \n",
    "           annot = True);"
   ]
  },
  {
   "cell_type": "code",
   "execution_count": null,
   "metadata": {},
   "outputs": [],
   "source": [
    "# creamos un dataframe todo de unos de la misma forma que nuestra matriz de correlación\n",
    "\n",
    "mask = np.triu(np.ones_like(df.corr(), dtype = np.bool))\n",
    "\n",
    "sns.heatmap(df.corr(), \n",
    "           cmap = \"YlGnBu\", \n",
    "            mask = mask,\n",
    "           annot = True);"
   ]
  },
  {
   "attachments": {},
   "cell_type": "markdown",
   "metadata": {},
   "source": [
    "#### Variables categóricas"
   ]
  },
  {
   "cell_type": "code",
   "execution_count": null,
   "metadata": {},
   "outputs": [],
   "source": [
    "df.head(2)"
   ]
  },
  {
   "cell_type": "code",
   "execution_count": null,
   "metadata": {},
   "outputs": [],
   "source": [
    "categoricas = df.select_dtypes(include = 'object').describe().T\n",
    "categoricas.head()"
   ]
  },
  {
   "cell_type": "code",
   "execution_count": null,
   "metadata": {},
   "outputs": [],
   "source": [
    "sns.barplot(x='region', y='charges', hue='sex', data=df, palette='Set2');"
   ]
  },
  {
   "cell_type": "code",
   "execution_count": null,
   "metadata": {},
   "outputs": [],
   "source": [
    "df.to_csv(\"../data-log/01-dataframe.csv\" )"
   ]
  }
 ],
 "metadata": {
  "kernelspec": {
   "display_name": "base",
   "language": "python",
   "name": "python3"
  },
  "language_info": {
   "codemirror_mode": {
    "name": "ipython",
    "version": 3
   },
   "file_extension": ".py",
   "mimetype": "text/x-python",
   "name": "python",
   "nbconvert_exporter": "python",
   "pygments_lexer": "ipython3",
   "version": "3.9.7 (default, Sep 16 2021, 13:09:58) \n[GCC 7.5.0]"
  },
  "orig_nbformat": 4,
  "vscode": {
   "interpreter": {
    "hash": "f8e782a3a92a384869fb83a8974812ed4d4d199ed3e8c8704ecd8a7536d7fad4"
   }
  }
 },
 "nbformat": 4,
 "nbformat_minor": 2
}
