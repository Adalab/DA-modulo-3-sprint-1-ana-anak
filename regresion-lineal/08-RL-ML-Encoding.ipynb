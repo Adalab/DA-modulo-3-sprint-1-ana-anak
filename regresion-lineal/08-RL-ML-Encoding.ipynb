{
 "cells": [
  {
   "cell_type": "code",
   "execution_count": 18,
   "metadata": {},
   "outputs": [],
   "source": [
    "# Tratamiento de datos\n",
    "# -----------------------------------------------------------------------\n",
    "import pandas as pd\n",
    "import seaborn as sns\n",
    "\n",
    "# Para la codificación de las variables numéricas\n",
    "# -----------------------------------------------------------------------\n",
    "from sklearn.preprocessing import LabelEncoder # para realizar el Label Encoding \n",
    "from sklearn.preprocessing import OneHotEncoder  # para realizar el One-Hot Encoding\n",
    "\n",
    "# Para evitar que salgan los warnings en jupyter\n",
    "# -----------------------------------------------------------------------\n",
    "import warnings\n",
    "warnings.filterwarnings('ignore')"
   ]
  },
  {
   "cell_type": "code",
   "execution_count": 2,
   "metadata": {},
   "outputs": [
    {
     "data": {
      "text/html": [
       "<div>\n",
       "<style scoped>\n",
       "    .dataframe tbody tr th:only-of-type {\n",
       "        vertical-align: middle;\n",
       "    }\n",
       "\n",
       "    .dataframe tbody tr th {\n",
       "        vertical-align: top;\n",
       "    }\n",
       "\n",
       "    .dataframe thead th {\n",
       "        text-align: right;\n",
       "    }\n",
       "</style>\n",
       "<table border=\"1\" class=\"dataframe\">\n",
       "  <thead>\n",
       "    <tr style=\"text-align: right;\">\n",
       "      <th></th>\n",
       "      <th>age</th>\n",
       "      <th>sex</th>\n",
       "      <th>bmi</th>\n",
       "      <th>children</th>\n",
       "      <th>smoker</th>\n",
       "      <th>region</th>\n",
       "      <th>charges_Sklearn</th>\n",
       "    </tr>\n",
       "  </thead>\n",
       "  <tbody>\n",
       "    <tr>\n",
       "      <th>0</th>\n",
       "      <td>-1.387916</td>\n",
       "      <td>female</td>\n",
       "      <td>-0.382685</td>\n",
       "      <td>-0.885991</td>\n",
       "      <td>yes</td>\n",
       "      <td>southwest</td>\n",
       "      <td>0.836552</td>\n",
       "    </tr>\n",
       "    <tr>\n",
       "      <th>1</th>\n",
       "      <td>-1.459488</td>\n",
       "      <td>male</td>\n",
       "      <td>0.601634</td>\n",
       "      <td>-0.069805</td>\n",
       "      <td>no</td>\n",
       "      <td>southeast</td>\n",
       "      <td>0.032037</td>\n",
       "    </tr>\n",
       "  </tbody>\n",
       "</table>\n",
       "</div>"
      ],
      "text/plain": [
       "        age     sex       bmi  children smoker     region  charges_Sklearn\n",
       "0 -1.387916  female -0.382685 -0.885991    yes  southwest         0.836552\n",
       "1 -1.459488    male  0.601634 -0.069805     no  southeast         0.032037"
      ]
     },
     "execution_count": 2,
     "metadata": {},
     "output_type": "execute_result"
    }
   ],
   "source": [
    "df=pd.read_csv('../data/06-primas_norm_est_standard.csv',index_col=0)\n",
    "df.head(2)"
   ]
  },
  {
   "attachments": {},
   "cell_type": "markdown",
   "metadata": {},
   "source": [
    "# Pair Programming Encoding"
   ]
  },
  {
   "attachments": {},
   "cell_type": "markdown",
   "metadata": {},
   "source": [
    "## Ana C y Ana G"
   ]
  },
  {
   "attachments": {},
   "cell_type": "markdown",
   "metadata": {},
   "source": [
    "En el pair programming de hoy usaremos el set de datos que guardastéis en el pair programming de normalización y estandarización.\n",
    "\n",
    "Vuestro set de datos debería tener al menos una variable categórica, el objetivo del pair programming de hoy:"
   ]
  },
  {
   "attachments": {},
   "cell_type": "markdown",
   "metadata": {},
   "source": [
    "- Hacer una códificación de la/las variables categóricas que tengáis en vuestro set de datos.\n",
    "- Recordad que lo primero que deberéis hacer es decidir su vuestras variables tienen o no orden, para que en función de esto uséis una aproximación u otra.\n",
    "- Guardad el dataframe, donde deberíais tener las variables estadandarizas, normalizadas y codificadas en un csv para usarlo en el próximo pairprogramming"
   ]
  },
  {
   "cell_type": "code",
   "execution_count": 3,
   "metadata": {},
   "outputs": [
    {
     "data": {
      "text/html": [
       "<div>\n",
       "<style scoped>\n",
       "    .dataframe tbody tr th:only-of-type {\n",
       "        vertical-align: middle;\n",
       "    }\n",
       "\n",
       "    .dataframe tbody tr th {\n",
       "        vertical-align: top;\n",
       "    }\n",
       "\n",
       "    .dataframe thead th {\n",
       "        text-align: right;\n",
       "    }\n",
       "</style>\n",
       "<table border=\"1\" class=\"dataframe\">\n",
       "  <thead>\n",
       "    <tr style=\"text-align: right;\">\n",
       "      <th></th>\n",
       "      <th>age</th>\n",
       "      <th>sex</th>\n",
       "      <th>bmi</th>\n",
       "      <th>children</th>\n",
       "      <th>smoker</th>\n",
       "      <th>region</th>\n",
       "      <th>charges_Sklearn</th>\n",
       "    </tr>\n",
       "  </thead>\n",
       "  <tbody>\n",
       "    <tr>\n",
       "      <th>335</th>\n",
       "      <td>-1.459488</td>\n",
       "      <td>female</td>\n",
       "      <td>-0.170562</td>\n",
       "      <td>-0.885991</td>\n",
       "      <td>no</td>\n",
       "      <td>northeast</td>\n",
       "      <td>0.329136</td>\n",
       "    </tr>\n",
       "    <tr>\n",
       "      <th>744</th>\n",
       "      <td>-0.886913</td>\n",
       "      <td>male</td>\n",
       "      <td>2.741313</td>\n",
       "      <td>-0.069805</td>\n",
       "      <td>no</td>\n",
       "      <td>southeast</td>\n",
       "      <td>0.095802</td>\n",
       "    </tr>\n",
       "    <tr>\n",
       "      <th>554</th>\n",
       "      <td>0.616097</td>\n",
       "      <td>female</td>\n",
       "      <td>-0.106841</td>\n",
       "      <td>-0.069805</td>\n",
       "      <td>no</td>\n",
       "      <td>northwest</td>\n",
       "      <td>0.414430</td>\n",
       "    </tr>\n",
       "    <tr>\n",
       "      <th>811</th>\n",
       "      <td>-0.028050</td>\n",
       "      <td>female</td>\n",
       "      <td>-0.432991</td>\n",
       "      <td>-0.885991</td>\n",
       "      <td>no</td>\n",
       "      <td>southwest</td>\n",
       "      <td>0.226168</td>\n",
       "    </tr>\n",
       "    <tr>\n",
       "      <th>1049</th>\n",
       "      <td>0.043522</td>\n",
       "      <td>female</td>\n",
       "      <td>-0.648468</td>\n",
       "      <td>0.746380</td>\n",
       "      <td>no</td>\n",
       "      <td>northwest</td>\n",
       "      <td>0.322659</td>\n",
       "    </tr>\n",
       "  </tbody>\n",
       "</table>\n",
       "</div>"
      ],
      "text/plain": [
       "           age     sex       bmi  children smoker     region  charges_Sklearn\n",
       "335  -1.459488  female -0.170562 -0.885991     no  northeast         0.329136\n",
       "744  -0.886913    male  2.741313 -0.069805     no  southeast         0.095802\n",
       "554   0.616097  female -0.106841 -0.069805     no  northwest         0.414430\n",
       "811  -0.028050  female -0.432991 -0.885991     no  southwest         0.226168\n",
       "1049  0.043522  female -0.648468  0.746380     no  northwest         0.322659"
      ]
     },
     "execution_count": 3,
     "metadata": {},
     "output_type": "execute_result"
    }
   ],
   "source": [
    "df.sample(5)"
   ]
  },
  {
   "attachments": {},
   "cell_type": "markdown",
   "metadata": {},
   "source": [
    "Tenemos dos, en el caso de hábitos tabáquicos, asumimos que nuestra variable tiene orden, y le asignaremos más peso a la condición fumador.\n",
    "La variable de sexo también tenemos orden, según ANOVA la condición masculina obtiene un coeficiente negativo y p> a 0.05, nos quedamos con mayor peso a masculino lo haremos por get dummies y seleccionaremos la columna que nos interesa.En el pair 1 vimos que más que el sexo, las primas se relacionaban con el tabaquismo más que por sexo, es decir, eran más los hombres que fumaban y por tanto, se les asocia mayor prima por ello, no por el sexo en si."
   ]
  },
  {
   "cell_type": "code",
   "execution_count": 4,
   "metadata": {},
   "outputs": [],
   "source": [
    "mapa = {'no':0, 'yes':1} "
   ]
  },
  {
   "cell_type": "code",
   "execution_count": 5,
   "metadata": {},
   "outputs": [],
   "source": [
    "df[\"fumadores\"] = df[\"smoker\"].map(mapa)"
   ]
  },
  {
   "cell_type": "code",
   "execution_count": 6,
   "metadata": {},
   "outputs": [
    {
     "data": {
      "text/html": [
       "<div>\n",
       "<style scoped>\n",
       "    .dataframe tbody tr th:only-of-type {\n",
       "        vertical-align: middle;\n",
       "    }\n",
       "\n",
       "    .dataframe tbody tr th {\n",
       "        vertical-align: top;\n",
       "    }\n",
       "\n",
       "    .dataframe thead th {\n",
       "        text-align: right;\n",
       "    }\n",
       "</style>\n",
       "<table border=\"1\" class=\"dataframe\">\n",
       "  <thead>\n",
       "    <tr style=\"text-align: right;\">\n",
       "      <th></th>\n",
       "      <th>age</th>\n",
       "      <th>sex</th>\n",
       "      <th>bmi</th>\n",
       "      <th>children</th>\n",
       "      <th>smoker</th>\n",
       "      <th>region</th>\n",
       "      <th>charges_Sklearn</th>\n",
       "      <th>fumadores</th>\n",
       "    </tr>\n",
       "  </thead>\n",
       "  <tbody>\n",
       "    <tr>\n",
       "      <th>0</th>\n",
       "      <td>-1.387916</td>\n",
       "      <td>female</td>\n",
       "      <td>-0.382685</td>\n",
       "      <td>-0.885991</td>\n",
       "      <td>yes</td>\n",
       "      <td>southwest</td>\n",
       "      <td>0.836552</td>\n",
       "      <td>1</td>\n",
       "    </tr>\n",
       "    <tr>\n",
       "      <th>1</th>\n",
       "      <td>-1.459488</td>\n",
       "      <td>male</td>\n",
       "      <td>0.601634</td>\n",
       "      <td>-0.069805</td>\n",
       "      <td>no</td>\n",
       "      <td>southeast</td>\n",
       "      <td>0.032037</td>\n",
       "      <td>0</td>\n",
       "    </tr>\n",
       "    <tr>\n",
       "      <th>2</th>\n",
       "      <td>-0.743769</td>\n",
       "      <td>male</td>\n",
       "      <td>0.472516</td>\n",
       "      <td>1.562566</td>\n",
       "      <td>no</td>\n",
       "      <td>southeast</td>\n",
       "      <td>0.176597</td>\n",
       "      <td>0</td>\n",
       "    </tr>\n",
       "    <tr>\n",
       "      <th>3</th>\n",
       "      <td>-0.457482</td>\n",
       "      <td>male</td>\n",
       "      <td>-0.218352</td>\n",
       "      <td>-0.885991</td>\n",
       "      <td>no</td>\n",
       "      <td>northwest</td>\n",
       "      <td>0.145677</td>\n",
       "      <td>0</td>\n",
       "    </tr>\n",
       "    <tr>\n",
       "      <th>4</th>\n",
       "      <td>-0.529054</td>\n",
       "      <td>female</td>\n",
       "      <td>-0.744888</td>\n",
       "      <td>-0.885991</td>\n",
       "      <td>no</td>\n",
       "      <td>southeast</td>\n",
       "      <td>0.139827</td>\n",
       "      <td>0</td>\n",
       "    </tr>\n",
       "  </tbody>\n",
       "</table>\n",
       "</div>"
      ],
      "text/plain": [
       "        age     sex       bmi  children smoker     region  charges_Sklearn  \\\n",
       "0 -1.387916  female -0.382685 -0.885991    yes  southwest         0.836552   \n",
       "1 -1.459488    male  0.601634 -0.069805     no  southeast         0.032037   \n",
       "2 -0.743769    male  0.472516  1.562566     no  southeast         0.176597   \n",
       "3 -0.457482    male -0.218352 -0.885991     no  northwest         0.145677   \n",
       "4 -0.529054  female -0.744888 -0.885991     no  southeast         0.139827   \n",
       "\n",
       "   fumadores  \n",
       "0          1  \n",
       "1          0  \n",
       "2          0  \n",
       "3          0  \n",
       "4          0  "
      ]
     },
     "execution_count": 6,
     "metadata": {},
     "output_type": "execute_result"
    }
   ],
   "source": [
    "df.head()"
   ]
  },
  {
   "cell_type": "code",
   "execution_count": 7,
   "metadata": {},
   "outputs": [
    {
     "data": {
      "text/html": [
       "<div>\n",
       "<style scoped>\n",
       "    .dataframe tbody tr th:only-of-type {\n",
       "        vertical-align: middle;\n",
       "    }\n",
       "\n",
       "    .dataframe tbody tr th {\n",
       "        vertical-align: top;\n",
       "    }\n",
       "\n",
       "    .dataframe thead th {\n",
       "        text-align: right;\n",
       "    }\n",
       "</style>\n",
       "<table border=\"1\" class=\"dataframe\">\n",
       "  <thead>\n",
       "    <tr style=\"text-align: right;\">\n",
       "      <th></th>\n",
       "      <th>sex_female</th>\n",
       "      <th>sex_male</th>\n",
       "    </tr>\n",
       "  </thead>\n",
       "  <tbody>\n",
       "    <tr>\n",
       "      <th>0</th>\n",
       "      <td>1</td>\n",
       "      <td>0</td>\n",
       "    </tr>\n",
       "    <tr>\n",
       "      <th>1</th>\n",
       "      <td>0</td>\n",
       "      <td>1</td>\n",
       "    </tr>\n",
       "  </tbody>\n",
       "</table>\n",
       "</div>"
      ],
      "text/plain": [
       "   sex_female  sex_male\n",
       "0           1         0\n",
       "1           0         1"
      ]
     },
     "execution_count": 7,
     "metadata": {},
     "output_type": "execute_result"
    }
   ],
   "source": [
    "# lo haremos para la columna \"sex\"\n",
    "\n",
    "dummies = pd.get_dummies(df[\"sex\"], prefix_sep = \"_\", prefix = \"sex\", dtype = int)\n",
    "dummies.head(2)"
   ]
  },
  {
   "cell_type": "code",
   "execution_count": 8,
   "metadata": {},
   "outputs": [
    {
     "data": {
      "text/html": [
       "<div>\n",
       "<style scoped>\n",
       "    .dataframe tbody tr th:only-of-type {\n",
       "        vertical-align: middle;\n",
       "    }\n",
       "\n",
       "    .dataframe tbody tr th {\n",
       "        vertical-align: top;\n",
       "    }\n",
       "\n",
       "    .dataframe thead th {\n",
       "        text-align: right;\n",
       "    }\n",
       "</style>\n",
       "<table border=\"1\" class=\"dataframe\">\n",
       "  <thead>\n",
       "    <tr style=\"text-align: right;\">\n",
       "      <th></th>\n",
       "      <th>age</th>\n",
       "      <th>sex</th>\n",
       "      <th>bmi</th>\n",
       "      <th>children</th>\n",
       "      <th>smoker</th>\n",
       "      <th>region</th>\n",
       "      <th>charges_Sklearn</th>\n",
       "      <th>fumadores</th>\n",
       "      <th>sex_female</th>\n",
       "      <th>sex_male</th>\n",
       "    </tr>\n",
       "  </thead>\n",
       "  <tbody>\n",
       "    <tr>\n",
       "      <th>0</th>\n",
       "      <td>-1.387916</td>\n",
       "      <td>female</td>\n",
       "      <td>-0.382685</td>\n",
       "      <td>-0.885991</td>\n",
       "      <td>yes</td>\n",
       "      <td>southwest</td>\n",
       "      <td>0.836552</td>\n",
       "      <td>1</td>\n",
       "      <td>1</td>\n",
       "      <td>0</td>\n",
       "    </tr>\n",
       "    <tr>\n",
       "      <th>1</th>\n",
       "      <td>-1.459488</td>\n",
       "      <td>male</td>\n",
       "      <td>0.601634</td>\n",
       "      <td>-0.069805</td>\n",
       "      <td>no</td>\n",
       "      <td>southeast</td>\n",
       "      <td>0.032037</td>\n",
       "      <td>0</td>\n",
       "      <td>0</td>\n",
       "      <td>1</td>\n",
       "    </tr>\n",
       "  </tbody>\n",
       "</table>\n",
       "</div>"
      ],
      "text/plain": [
       "        age     sex       bmi  children smoker     region  charges_Sklearn  \\\n",
       "0 -1.387916  female -0.382685 -0.885991    yes  southwest         0.836552   \n",
       "1 -1.459488    male  0.601634 -0.069805     no  southeast         0.032037   \n",
       "\n",
       "   fumadores  sex_female  sex_male  \n",
       "0          1           1         0  \n",
       "1          0           0         1  "
      ]
     },
     "execution_count": 8,
     "metadata": {},
     "output_type": "execute_result"
    }
   ],
   "source": [
    "# juntamos los datos condf_dummies\n",
    "\n",
    "df_dummies = pd.concat([df, dummies], axis = 1)\n",
    "df_dummies.head(2)"
   ]
  },
  {
   "cell_type": "code",
   "execution_count": 9,
   "metadata": {},
   "outputs": [
    {
     "data": {
      "text/plain": [
       "1    547\n",
       "0    517\n",
       "Name: sex_female, dtype: int64"
      ]
     },
     "execution_count": 9,
     "metadata": {},
     "output_type": "execute_result"
    }
   ],
   "source": [
    "df_dummies['sex_female'].value_counts()"
   ]
  },
  {
   "attachments": {},
   "cell_type": "markdown",
   "metadata": {},
   "source": [
    "Categorizamos la variable region, que aún no la hemos quitado del dataframe a pesar de que según anova y gráficos no influye aparentemente en nuestra variable respuesta. Asignamos categorias de igual peso con oneHot."
   ]
  },
  {
   "cell_type": "code",
   "execution_count": 10,
   "metadata": {},
   "outputs": [],
   "source": [
    "# iniciamos el método de OneHot Encoder\n",
    "oh = OneHotEncoder()"
   ]
  },
  {
   "cell_type": "code",
   "execution_count": 11,
   "metadata": {},
   "outputs": [],
   "source": [
    "# hacemos la codificación de los datos para la variable dada \n",
    "transformados = oh.fit_transform(df[['region']])"
   ]
  },
  {
   "cell_type": "code",
   "execution_count": 12,
   "metadata": {},
   "outputs": [
    {
     "data": {
      "text/html": [
       "<div>\n",
       "<style scoped>\n",
       "    .dataframe tbody tr th:only-of-type {\n",
       "        vertical-align: middle;\n",
       "    }\n",
       "\n",
       "    .dataframe tbody tr th {\n",
       "        vertical-align: top;\n",
       "    }\n",
       "\n",
       "    .dataframe thead th {\n",
       "        text-align: right;\n",
       "    }\n",
       "</style>\n",
       "<table border=\"1\" class=\"dataframe\">\n",
       "  <thead>\n",
       "    <tr style=\"text-align: right;\">\n",
       "      <th></th>\n",
       "      <th>0</th>\n",
       "      <th>1</th>\n",
       "      <th>2</th>\n",
       "      <th>3</th>\n",
       "    </tr>\n",
       "  </thead>\n",
       "  <tbody>\n",
       "    <tr>\n",
       "      <th>0</th>\n",
       "      <td>0.0</td>\n",
       "      <td>0.0</td>\n",
       "      <td>0.0</td>\n",
       "      <td>1.0</td>\n",
       "    </tr>\n",
       "    <tr>\n",
       "      <th>1</th>\n",
       "      <td>0.0</td>\n",
       "      <td>0.0</td>\n",
       "      <td>1.0</td>\n",
       "      <td>0.0</td>\n",
       "    </tr>\n",
       "    <tr>\n",
       "      <th>2</th>\n",
       "      <td>0.0</td>\n",
       "      <td>0.0</td>\n",
       "      <td>1.0</td>\n",
       "      <td>0.0</td>\n",
       "    </tr>\n",
       "    <tr>\n",
       "      <th>3</th>\n",
       "      <td>0.0</td>\n",
       "      <td>1.0</td>\n",
       "      <td>0.0</td>\n",
       "      <td>0.0</td>\n",
       "    </tr>\n",
       "    <tr>\n",
       "      <th>4</th>\n",
       "      <td>0.0</td>\n",
       "      <td>0.0</td>\n",
       "      <td>1.0</td>\n",
       "      <td>0.0</td>\n",
       "    </tr>\n",
       "    <tr>\n",
       "      <th>5</th>\n",
       "      <td>0.0</td>\n",
       "      <td>0.0</td>\n",
       "      <td>1.0</td>\n",
       "      <td>0.0</td>\n",
       "    </tr>\n",
       "    <tr>\n",
       "      <th>6</th>\n",
       "      <td>0.0</td>\n",
       "      <td>1.0</td>\n",
       "      <td>0.0</td>\n",
       "      <td>0.0</td>\n",
       "    </tr>\n",
       "    <tr>\n",
       "      <th>7</th>\n",
       "      <td>1.0</td>\n",
       "      <td>0.0</td>\n",
       "      <td>0.0</td>\n",
       "      <td>0.0</td>\n",
       "    </tr>\n",
       "    <tr>\n",
       "      <th>8</th>\n",
       "      <td>1.0</td>\n",
       "      <td>0.0</td>\n",
       "      <td>0.0</td>\n",
       "      <td>0.0</td>\n",
       "    </tr>\n",
       "    <tr>\n",
       "      <th>9</th>\n",
       "      <td>0.0</td>\n",
       "      <td>0.0</td>\n",
       "      <td>0.0</td>\n",
       "      <td>1.0</td>\n",
       "    </tr>\n",
       "  </tbody>\n",
       "</table>\n",
       "</div>"
      ],
      "text/plain": [
       "     0    1    2    3\n",
       "0  0.0  0.0  0.0  1.0\n",
       "1  0.0  0.0  1.0  0.0\n",
       "2  0.0  0.0  1.0  0.0\n",
       "3  0.0  1.0  0.0  0.0\n",
       "4  0.0  0.0  1.0  0.0\n",
       "5  0.0  0.0  1.0  0.0\n",
       "6  0.0  1.0  0.0  0.0\n",
       "7  1.0  0.0  0.0  0.0\n",
       "8  1.0  0.0  0.0  0.0\n",
       "9  0.0  0.0  0.0  1.0"
      ]
     },
     "execution_count": 12,
     "metadata": {},
     "output_type": "execute_result"
    }
   ],
   "source": [
    "# convertimos nuestro array con la codificación hecha en un dataframe, donde tendremos dos columnas, una para los \"Yes\" y otra para los \"No\"\n",
    "oh_df = pd.DataFrame(transformados.toarray())\n",
    "oh_df.head(10)"
   ]
  },
  {
   "cell_type": "code",
   "execution_count": 13,
   "metadata": {},
   "outputs": [
    {
     "data": {
      "text/plain": [
       "Index(['region_northeast', 'region_northwest', 'region_southeast',\n",
       "       'region_southwest'],\n",
       "      dtype='object')"
      ]
     },
     "execution_count": 13,
     "metadata": {},
     "output_type": "execute_result"
    }
   ],
   "source": [
    "# el método get_feature_names nos va a dar el nombre de las columnas nuevas que se nos generarán\n",
    "oh_df.columns = oh.get_feature_names_out()# metodo actualizado el anterior lo han quitado ya.\n",
    "oh_df.columns"
   ]
  },
  {
   "cell_type": "code",
   "execution_count": 14,
   "metadata": {},
   "outputs": [
    {
     "data": {
      "text/html": [
       "<div>\n",
       "<style scoped>\n",
       "    .dataframe tbody tr th:only-of-type {\n",
       "        vertical-align: middle;\n",
       "    }\n",
       "\n",
       "    .dataframe tbody tr th {\n",
       "        vertical-align: top;\n",
       "    }\n",
       "\n",
       "    .dataframe thead th {\n",
       "        text-align: right;\n",
       "    }\n",
       "</style>\n",
       "<table border=\"1\" class=\"dataframe\">\n",
       "  <thead>\n",
       "    <tr style=\"text-align: right;\">\n",
       "      <th></th>\n",
       "      <th>age</th>\n",
       "      <th>sex</th>\n",
       "      <th>bmi</th>\n",
       "      <th>children</th>\n",
       "      <th>smoker</th>\n",
       "      <th>region</th>\n",
       "      <th>charges_Sklearn</th>\n",
       "      <th>fumadores</th>\n",
       "      <th>sex_female</th>\n",
       "      <th>sex_male</th>\n",
       "      <th>region_northeast</th>\n",
       "      <th>region_northwest</th>\n",
       "      <th>region_southeast</th>\n",
       "      <th>region_southwest</th>\n",
       "    </tr>\n",
       "  </thead>\n",
       "  <tbody>\n",
       "    <tr>\n",
       "      <th>0</th>\n",
       "      <td>-1.387916</td>\n",
       "      <td>female</td>\n",
       "      <td>-0.382685</td>\n",
       "      <td>-0.885991</td>\n",
       "      <td>yes</td>\n",
       "      <td>southwest</td>\n",
       "      <td>0.836552</td>\n",
       "      <td>1</td>\n",
       "      <td>1</td>\n",
       "      <td>0</td>\n",
       "      <td>0.0</td>\n",
       "      <td>0.0</td>\n",
       "      <td>0.0</td>\n",
       "      <td>1.0</td>\n",
       "    </tr>\n",
       "    <tr>\n",
       "      <th>1</th>\n",
       "      <td>-1.459488</td>\n",
       "      <td>male</td>\n",
       "      <td>0.601634</td>\n",
       "      <td>-0.069805</td>\n",
       "      <td>no</td>\n",
       "      <td>southeast</td>\n",
       "      <td>0.032037</td>\n",
       "      <td>0</td>\n",
       "      <td>0</td>\n",
       "      <td>1</td>\n",
       "      <td>0.0</td>\n",
       "      <td>0.0</td>\n",
       "      <td>1.0</td>\n",
       "      <td>0.0</td>\n",
       "    </tr>\n",
       "    <tr>\n",
       "      <th>2</th>\n",
       "      <td>-0.743769</td>\n",
       "      <td>male</td>\n",
       "      <td>0.472516</td>\n",
       "      <td>1.562566</td>\n",
       "      <td>no</td>\n",
       "      <td>southeast</td>\n",
       "      <td>0.176597</td>\n",
       "      <td>0</td>\n",
       "      <td>0</td>\n",
       "      <td>1</td>\n",
       "      <td>0.0</td>\n",
       "      <td>0.0</td>\n",
       "      <td>1.0</td>\n",
       "      <td>0.0</td>\n",
       "    </tr>\n",
       "    <tr>\n",
       "      <th>3</th>\n",
       "      <td>-0.457482</td>\n",
       "      <td>male</td>\n",
       "      <td>-0.218352</td>\n",
       "      <td>-0.885991</td>\n",
       "      <td>no</td>\n",
       "      <td>northwest</td>\n",
       "      <td>0.145677</td>\n",
       "      <td>0</td>\n",
       "      <td>0</td>\n",
       "      <td>1</td>\n",
       "      <td>0.0</td>\n",
       "      <td>1.0</td>\n",
       "      <td>0.0</td>\n",
       "      <td>0.0</td>\n",
       "    </tr>\n",
       "    <tr>\n",
       "      <th>4</th>\n",
       "      <td>-0.529054</td>\n",
       "      <td>female</td>\n",
       "      <td>-0.744888</td>\n",
       "      <td>-0.885991</td>\n",
       "      <td>no</td>\n",
       "      <td>southeast</td>\n",
       "      <td>0.139827</td>\n",
       "      <td>0</td>\n",
       "      <td>1</td>\n",
       "      <td>0</td>\n",
       "      <td>0.0</td>\n",
       "      <td>0.0</td>\n",
       "      <td>1.0</td>\n",
       "      <td>0.0</td>\n",
       "    </tr>\n",
       "  </tbody>\n",
       "</table>\n",
       "</div>"
      ],
      "text/plain": [
       "        age     sex       bmi  children smoker     region  charges_Sklearn  \\\n",
       "0 -1.387916  female -0.382685 -0.885991    yes  southwest         0.836552   \n",
       "1 -1.459488    male  0.601634 -0.069805     no  southeast         0.032037   \n",
       "2 -0.743769    male  0.472516  1.562566     no  southeast         0.176597   \n",
       "3 -0.457482    male -0.218352 -0.885991     no  northwest         0.145677   \n",
       "4 -0.529054  female -0.744888 -0.885991     no  southeast         0.139827   \n",
       "\n",
       "   fumadores  sex_female  sex_male  region_northeast  region_northwest  \\\n",
       "0          1           1         0               0.0               0.0   \n",
       "1          0           0         1               0.0               0.0   \n",
       "2          0           0         1               0.0               0.0   \n",
       "3          0           0         1               0.0               1.0   \n",
       "4          0           1         0               0.0               0.0   \n",
       "\n",
       "   region_southeast  region_southwest  \n",
       "0               0.0               1.0  \n",
       "1               1.0               0.0  \n",
       "2               1.0               0.0  \n",
       "3               0.0               0.0  \n",
       "4               1.0               0.0  "
      ]
     },
     "execution_count": 14,
     "metadata": {},
     "output_type": "execute_result"
    }
   ],
   "source": [
    "# concatenamos el dataframe original con el dataframe que acabamos de crear\n",
    "final = pd.concat([df_dummies,oh_df],axis=1)\n",
    "final.head()"
   ]
  },
  {
   "cell_type": "code",
   "execution_count": 15,
   "metadata": {},
   "outputs": [
    {
     "data": {
      "text/plain": [
       "Index(['age', 'sex', 'bmi', 'children', 'smoker', 'region', 'charges_Sklearn',\n",
       "       'fumadores', 'sex_female', 'sex_male', 'region_northeast',\n",
       "       'region_northwest', 'region_southeast', 'region_southwest'],\n",
       "      dtype='object')"
      ]
     },
     "execution_count": 15,
     "metadata": {},
     "output_type": "execute_result"
    }
   ],
   "source": [
    "final.columns"
   ]
  },
  {
   "cell_type": "code",
   "execution_count": 16,
   "metadata": {},
   "outputs": [
    {
     "data": {
      "text/html": [
       "<div>\n",
       "<style scoped>\n",
       "    .dataframe tbody tr th:only-of-type {\n",
       "        vertical-align: middle;\n",
       "    }\n",
       "\n",
       "    .dataframe tbody tr th {\n",
       "        vertical-align: top;\n",
       "    }\n",
       "\n",
       "    .dataframe thead th {\n",
       "        text-align: right;\n",
       "    }\n",
       "</style>\n",
       "<table border=\"1\" class=\"dataframe\">\n",
       "  <thead>\n",
       "    <tr style=\"text-align: right;\">\n",
       "      <th></th>\n",
       "      <th>age</th>\n",
       "      <th>sex</th>\n",
       "      <th>bmi</th>\n",
       "      <th>children</th>\n",
       "      <th>smoker</th>\n",
       "      <th>region</th>\n",
       "      <th>charges_Sklearn</th>\n",
       "      <th>fumadores</th>\n",
       "      <th>mujeres</th>\n",
       "      <th>hombres</th>\n",
       "      <th>northeast</th>\n",
       "      <th>northwest</th>\n",
       "      <th>southeast</th>\n",
       "      <th>southwest</th>\n",
       "    </tr>\n",
       "  </thead>\n",
       "  <tbody>\n",
       "    <tr>\n",
       "      <th>0</th>\n",
       "      <td>-1.387916</td>\n",
       "      <td>female</td>\n",
       "      <td>-0.382685</td>\n",
       "      <td>-0.885991</td>\n",
       "      <td>yes</td>\n",
       "      <td>southwest</td>\n",
       "      <td>0.836552</td>\n",
       "      <td>1</td>\n",
       "      <td>1</td>\n",
       "      <td>0</td>\n",
       "      <td>0.0</td>\n",
       "      <td>0.0</td>\n",
       "      <td>0.0</td>\n",
       "      <td>1.0</td>\n",
       "    </tr>\n",
       "    <tr>\n",
       "      <th>1</th>\n",
       "      <td>-1.459488</td>\n",
       "      <td>male</td>\n",
       "      <td>0.601634</td>\n",
       "      <td>-0.069805</td>\n",
       "      <td>no</td>\n",
       "      <td>southeast</td>\n",
       "      <td>0.032037</td>\n",
       "      <td>0</td>\n",
       "      <td>0</td>\n",
       "      <td>1</td>\n",
       "      <td>0.0</td>\n",
       "      <td>0.0</td>\n",
       "      <td>1.0</td>\n",
       "      <td>0.0</td>\n",
       "    </tr>\n",
       "  </tbody>\n",
       "</table>\n",
       "</div>"
      ],
      "text/plain": [
       "        age     sex       bmi  children smoker     region  charges_Sklearn  \\\n",
       "0 -1.387916  female -0.382685 -0.885991    yes  southwest         0.836552   \n",
       "1 -1.459488    male  0.601634 -0.069805     no  southeast         0.032037   \n",
       "\n",
       "   fumadores  mujeres  hombres  northeast  northwest  southeast  southwest  \n",
       "0          1        1        0        0.0        0.0        0.0        1.0  \n",
       "1          0        0        1        0.0        0.0        1.0        0.0  "
      ]
     },
     "execution_count": 16,
     "metadata": {},
     "output_type": "execute_result"
    }
   ],
   "source": [
    "final.columns=['age','sex','bmi','children','smoker','region', 'charges_Sklearn','fumadores','mujeres','hombres','northeast', 'northwest', 'southeast', 'southwest']\n",
    "final.head(2)"
   ]
  },
  {
   "cell_type": "code",
   "execution_count": 22,
   "metadata": {},
   "outputs": [],
   "source": [
    "final.drop('mujeres', axis=1, inplace=True)"
   ]
  },
  {
   "cell_type": "code",
   "execution_count": 24,
   "metadata": {},
   "outputs": [],
   "source": [
    "final.to_csv('../data/08-primas_categorizadas_normalizadas.csv')"
   ]
  }
 ],
 "metadata": {
  "kernelspec": {
   "display_name": "Python 3",
   "language": "python",
   "name": "python3"
  },
  "language_info": {
   "codemirror_mode": {
    "name": "ipython",
    "version": 3
   },
   "file_extension": ".py",
   "mimetype": "text/x-python",
   "name": "python",
   "nbconvert_exporter": "python",
   "pygments_lexer": "ipython3",
   "version": "3.9.7"
  },
  "orig_nbformat": 4,
  "vscode": {
   "interpreter": {
    "hash": "235f9155b0abc8f1580e75acf7c6712d847a3598ded282a80a21bb1bc6aba73f"
   }
  }
 },
 "nbformat": 4,
 "nbformat_minor": 2
}
