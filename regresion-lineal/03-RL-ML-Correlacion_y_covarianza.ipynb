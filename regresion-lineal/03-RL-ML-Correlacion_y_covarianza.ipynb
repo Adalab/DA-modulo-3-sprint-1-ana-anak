{
 "cells": [
  {
   "cell_type": "code",
   "execution_count": 2,
   "metadata": {},
   "outputs": [],
   "source": [
    "import pandas as pd\n",
    "import numpy as np\n",
    "import matplotlib.pyplot as plt\n",
    "import seaborn as sns"
   ]
  },
  {
   "cell_type": "code",
   "execution_count": 4,
   "metadata": {},
   "outputs": [
    {
     "name": "stdout",
     "output_type": "stream",
     "text": [
      "<class 'pandas.core.frame.DataFrame'>\n",
      "Int64Index: 1064 entries, 0 to 1336\n",
      "Data columns (total 7 columns):\n",
      " #   Column    Non-Null Count  Dtype  \n",
      "---  ------    --------------  -----  \n",
      " 0   age       1064 non-null   int64  \n",
      " 1   sex       1064 non-null   object \n",
      " 2   bmi       1064 non-null   float64\n",
      " 3   children  1064 non-null   int64  \n",
      " 4   smoker    1064 non-null   object \n",
      " 5   region    1064 non-null   object \n",
      " 6   charges   1064 non-null   float64\n",
      "dtypes: float64(2), int64(2), object(3)\n",
      "memory usage: 66.5+ KB\n"
     ]
    }
   ],
   "source": [
    "df=pd.read_csv('data/03-primas_bajas.csv', index_col=0)\n",
    "df.info()"
   ]
  },
  {
   "cell_type": "markdown",
   "metadata": {},
   "source": [
    "Happy coding💪🏽"
   ]
  },
  {
   "attachments": {},
   "cell_type": "markdown",
   "metadata": {},
   "source": [
    "# Pair Programming Correlación y covarianza"
   ]
  },
  {
   "attachments": {},
   "cell_type": "markdown",
   "metadata": {},
   "source": [
    "## Ana Campos y Ana González"
   ]
  },
  {
   "attachments": {},
   "cell_type": "markdown",
   "metadata": {},
   "source": [
    "### En este ejercicio de pair programming seguiréis usando el dataset que seleccionasteis ayer."
   ]
  },
  {
   "attachments": {},
   "cell_type": "markdown",
   "metadata": {},
   "source": [
    "#### - Pregunta teórica: ¿Qué diferencia existe entre la covarianza y la correlación?"
   ]
  },
  {
   "attachments": {},
   "cell_type": "markdown",
   "metadata": {},
   "source": [
    "        - La covariancia es más cualitativa, indica si existe o no relación entre las variables, y su tipo, que puede ser, directa, o indirecta.\n",
    "        - Por el contrario, la correlación, a demás de indicar el tipo, informa de la dirección, y la fortaleza de la misma, es decir, como de  relacionadas están las dos variables"
   ]
  },
  {
   "attachments": {},
   "cell_type": "markdown",
   "metadata": {},
   "source": [
    "#### - Calculad la covarianza y la correlación de nuestro dataset. No nos vale solo con que la calculéis, debéis hacer una interpretación de los resultados obtenidos. Calculad solo la correlación de Pearson."
   ]
  },
  {
   "cell_type": "code",
   "execution_count": 5,
   "metadata": {},
   "outputs": [
    {
     "data": {
      "text/html": [
       "<div>\n",
       "<style scoped>\n",
       "    .dataframe tbody tr th:only-of-type {\n",
       "        vertical-align: middle;\n",
       "    }\n",
       "\n",
       "    .dataframe tbody tr th {\n",
       "        vertical-align: top;\n",
       "    }\n",
       "\n",
       "    .dataframe thead th {\n",
       "        text-align: right;\n",
       "    }\n",
       "</style>\n",
       "<table border=\"1\" class=\"dataframe\">\n",
       "  <thead>\n",
       "    <tr style=\"text-align: right;\">\n",
       "      <th></th>\n",
       "      <th>age</th>\n",
       "      <th>bmi</th>\n",
       "      <th>children</th>\n",
       "      <th>charges</th>\n",
       "    </tr>\n",
       "  </thead>\n",
       "  <tbody>\n",
       "    <tr>\n",
       "      <th>age</th>\n",
       "      <td>195.399408</td>\n",
       "      <td>11.874767</td>\n",
       "      <td>0.730325</td>\n",
       "      <td>3.966002e+04</td>\n",
       "    </tr>\n",
       "    <tr>\n",
       "      <th>bmi</th>\n",
       "      <td>11.874767</td>\n",
       "      <td>35.081169</td>\n",
       "      <td>-0.022390</td>\n",
       "      <td>-3.695489e+02</td>\n",
       "    </tr>\n",
       "    <tr>\n",
       "      <th>children</th>\n",
       "      <td>0.730325</td>\n",
       "      <td>-0.022390</td>\n",
       "      <td>1.502556</td>\n",
       "      <td>8.620422e+02</td>\n",
       "    </tr>\n",
       "    <tr>\n",
       "      <th>charges</th>\n",
       "      <td>39660.016982</td>\n",
       "      <td>-369.548864</td>\n",
       "      <td>862.042187</td>\n",
       "      <td>2.223041e+07</td>\n",
       "    </tr>\n",
       "  </tbody>\n",
       "</table>\n",
       "</div>"
      ],
      "text/plain": [
       "                   age         bmi    children       charges\n",
       "age         195.399408   11.874767    0.730325  3.966002e+04\n",
       "bmi          11.874767   35.081169   -0.022390 -3.695489e+02\n",
       "children      0.730325   -0.022390    1.502556  8.620422e+02\n",
       "charges   39660.016982 -369.548864  862.042187  2.223041e+07"
      ]
     },
     "execution_count": 5,
     "metadata": {},
     "output_type": "execute_result"
    }
   ],
   "source": [
    "df.cov()"
   ]
  },
  {
   "attachments": {},
   "cell_type": "markdown",
   "metadata": {},
   "source": [
    "        - A mayor edad y número de hijos, existe relacion directa con el valor de la prima\n",
    "        - Sin embargo la relación con bmi es negativa **nos parece extraño**, según aumenta el peso, la prima disminuye.Por lo que tendremos que hacer test complementarios.\n",
    "        "
   ]
  },
  {
   "cell_type": "code",
   "execution_count": 6,
   "metadata": {},
   "outputs": [
    {
     "data": {
      "text/html": [
       "<div>\n",
       "<style scoped>\n",
       "    .dataframe tbody tr th:only-of-type {\n",
       "        vertical-align: middle;\n",
       "    }\n",
       "\n",
       "    .dataframe tbody tr th {\n",
       "        vertical-align: top;\n",
       "    }\n",
       "\n",
       "    .dataframe thead th {\n",
       "        text-align: right;\n",
       "    }\n",
       "</style>\n",
       "<table border=\"1\" class=\"dataframe\">\n",
       "  <thead>\n",
       "    <tr style=\"text-align: right;\">\n",
       "      <th></th>\n",
       "      <th>age</th>\n",
       "      <th>bmi</th>\n",
       "      <th>children</th>\n",
       "      <th>charges</th>\n",
       "    </tr>\n",
       "  </thead>\n",
       "  <tbody>\n",
       "    <tr>\n",
       "      <th>age</th>\n",
       "      <td>1.000000</td>\n",
       "      <td>0.143426</td>\n",
       "      <td>0.042623</td>\n",
       "      <td>0.601752</td>\n",
       "    </tr>\n",
       "    <tr>\n",
       "      <th>bmi</th>\n",
       "      <td>0.143426</td>\n",
       "      <td>1.000000</td>\n",
       "      <td>-0.003084</td>\n",
       "      <td>-0.013233</td>\n",
       "    </tr>\n",
       "    <tr>\n",
       "      <th>children</th>\n",
       "      <td>0.042623</td>\n",
       "      <td>-0.003084</td>\n",
       "      <td>1.000000</td>\n",
       "      <td>0.149156</td>\n",
       "    </tr>\n",
       "    <tr>\n",
       "      <th>charges</th>\n",
       "      <td>0.601752</td>\n",
       "      <td>-0.013233</td>\n",
       "      <td>0.149156</td>\n",
       "      <td>1.000000</td>\n",
       "    </tr>\n",
       "  </tbody>\n",
       "</table>\n",
       "</div>"
      ],
      "text/plain": [
       "               age       bmi  children   charges\n",
       "age       1.000000  0.143426  0.042623  0.601752\n",
       "bmi       0.143426  1.000000 -0.003084 -0.013233\n",
       "children  0.042623 -0.003084  1.000000  0.149156\n",
       "charges   0.601752 -0.013233  0.149156  1.000000"
      ]
     },
     "execution_count": 6,
     "metadata": {},
     "output_type": "execute_result"
    }
   ],
   "source": [
    "df_corr=df.corr()\n",
    "df_corr"
   ]
  },
  {
   "cell_type": "code",
   "execution_count": 7,
   "metadata": {},
   "outputs": [
    {
     "name": "stdout",
     "output_type": "stream",
     "text": [
      "------- La correlación de pearson es: \n",
      "               age       bmi  children   charges\n",
      "age       1.000000  0.143426  0.042623  0.601752\n",
      "bmi       0.143426  1.000000 -0.003084 -0.013233\n",
      "children  0.042623 -0.003084  1.000000  0.149156\n",
      "charges   0.601752 -0.013233  0.149156  1.000000\n",
      "------- La correlación de spearman es: \n",
      "               age       bmi  children   charges\n",
      "age       1.000000  0.139939  0.066986  0.707777\n",
      "bmi       0.139939  1.000000 -0.001039  0.007560\n",
      "children  0.066986 -0.001039  1.000000  0.166845\n",
      "charges   0.707777  0.007560  0.166845  1.000000\n",
      "------- La correlación de kendall es: \n",
      "               age       bmi  children   charges\n",
      "age       1.000000  0.095802  0.050451  0.655907\n",
      "bmi       0.095802  1.000000 -0.000608  0.006606\n",
      "children  0.050451 -0.000608  1.000000  0.131157\n",
      "charges   0.655907  0.006606  0.131157  1.000000\n"
     ]
    }
   ],
   "source": [
    "# nos vamos a crear una lista con los nombres de las correlaciones que queremos ver:\n",
    "correlaciones = [\"pearson\",  \"spearman\", \"kendall\"]\n",
    "\n",
    "# iteramos por nuestra lista\n",
    "for indice in correlaciones: \n",
    "    print(f\"------- La correlación de {indice} es: \")\n",
    "    print(df.corr(method = indice)) # calculamos la correlación."
   ]
  },
  {
   "attachments": {},
   "cell_type": "markdown",
   "metadata": {},
   "source": [
    "#### - Con los resultados de la correlación del ejercicio anterior, cread un heatmap."
   ]
  },
  {
   "cell_type": "code",
   "execution_count": 8,
   "metadata": {},
   "outputs": [
    {
     "name": "stderr",
     "output_type": "stream",
     "text": [
      "/tmp/ipykernel_5218/1424773859.py:1: DeprecationWarning: `np.bool` is a deprecated alias for the builtin `bool`. To silence this warning, use `bool` by itself. Doing this will not modify any behavior and is safe. If you specifically wanted the numpy scalar type, use `np.bool_` here.\n",
      "Deprecated in NumPy 1.20; for more details and guidance: https://numpy.org/devdocs/release/1.20.0-notes.html#deprecations\n",
      "  mask = np.triu(np.ones_like(df.corr(), dtype=np.bool))\n"
     ]
    }
   ],
   "source": [
    "mask = np.triu(np.ones_like(df.corr(), dtype=np.bool))"
   ]
  },
  {
   "cell_type": "code",
   "execution_count": 13,
   "metadata": {},
   "outputs": [
    {
     "data": {
      "image/png": "[encoded data removed]",
      "text/plain": [
       "<Figure size 432x288 with 2 Axes>"
      ]
     },
     "metadata": {
      "needs_background": "light"
     },
     "output_type": "display_data"
    }
   ],
   "source": [
    "\n",
    "sns.heatmap(df_corr, # calculamos la correlación. En este caso, como no estamos especificando nada la correlación será la de Pearson.\n",
    "            cmap = \"YlGnBu\",\n",
    "            mask=mask, # para especoficar el color del mapa\n",
    "           annot = True); \n",
    "plt.title('Heatmap')\n",
    "plt.savefig('data/heatmap.png')"
   ]
  },
  {
   "cell_type": "code",
   "execution_count": 11,
   "metadata": {},
   "outputs": [
    {
     "data": {
      "text/plain": [
       "<AxesSubplot:xlabel='bmi', ylabel='charges'>"
      ]
     },
     "execution_count": 11,
     "metadata": {},
     "output_type": "execute_result"
    },
    {
     "data": {
      "image/png": "[encoded data removed]",
      "text/plain": [
       "<Figure size 432x288 with 1 Axes>"
      ]
     },
     "metadata": {
      "needs_background": "light"
     },
     "output_type": "display_data"
    }
   ],
   "source": [
    "sns.regplot(data=df, x='bmi', y='charges')"
   ]
  },
  {
   "attachments": {},
   "cell_type": "markdown",
   "metadata": {},
   "source": [
    "Despues de profundizar en el análisis estadístico y visual de las variables bmi y charges, podemos decir que auqnue la covarianza sea negativa, las correlaciones de Spearman y Kendall, son casi 0 y positivas. Spearman casi 0 pero negativa. Visualmente despues de ver el heatmap y el regplot, concluimos que no existe relación aparente."
   ]
  },
  {
   "attachments": {},
   "cell_type": "markdown",
   "metadata": {},
   "source": [
    "#### - Guardad la gráfica del heatmap."
   ]
  },
  {
   "cell_type": "code",
   "execution_count": null,
   "metadata": {},
   "outputs": [],
   "source": [
    "#plt.savefig('../graphs/ana_formacion_eu.png')"
   ]
  }
 ],
 "metadata": {
  "kernelspec": {
   "display_name": "Python 3",
   "language": "python",
   "name": "python3"
  },
  "language_info": {
   "codemirror_mode": {
    "name": "ipython",
    "version": 3
   },
   "file_extension": ".py",
   "mimetype": "text/x-python",
   "name": "python",
   "nbconvert_exporter": "python",
   "pygments_lexer": "ipython3",
   "version": "3.9.7"
  },
  "orig_nbformat": 4,
  "vscode": {
   "interpreter": {
    "hash": "235f9155b0abc8f1580e75acf7c6712d847a3598ded282a80a21bb1bc6aba73f"
   }
  }
 },
 "nbformat": 4,
 "nbformat_minor": 2
}
